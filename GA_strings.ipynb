{
 "cells": [
  {
   "cell_type": "code",
   "execution_count": 231,
   "metadata": {},
   "outputs": [],
   "source": [
    "# seed the pseudorandom number generator\n",
    "from random import seed\n",
    "from random import randint\n",
    "from array import *\n",
    "import numpy as np"
   ]
  },
  {
   "cell_type": "code",
   "execution_count": 232,
   "metadata": {},
   "outputs": [],
   "source": [
    "def createInitialPop():\n",
    "    seed(1)  #prevent from randomly generated\n",
    "    for i in range(maxPop):\n",
    "        for j in range(maxSplusOne-1):\n",
    "            population[i][j] = randint(0,1)\n",
    "    return population"
   ]
  },
  {
   "cell_type": "code",
   "execution_count": 241,
   "metadata": {},
   "outputs": [],
   "source": [
    "def printPopulation(population):\n",
    "    for r in range(maxPop):\n",
    "        for c in range(maxSplusOne-1):\n",
    "            print(population[r][c],end = \" \")\n",
    "        print()"
   ]
  },
  {
   "cell_type": "code",
   "execution_count": 214,
   "metadata": {},
   "outputs": [],
   "source": [
    "def calculateFitness(population):\n",
    "    individual = []\n",
    "    total = 0\n",
    "    tot_chromosome = [0,0,0,0]\n",
    "\n",
    "    for i in range(maxPop):\n",
    "        for j in range(maxSplusOne-1):\n",
    "            temp_pop[i][j] = population[i][j]\n",
    "    for i in range(maxPop):\n",
    "        pop_str = ''.join(map(str, temp_pop[i]))\n",
    "        individual.insert(i, pop_str)\n",
    "        tot_chromosome[i] = int(pop_str,2)**2\n",
    "        total = total + tot_chromosome[i]\n",
    "        tot_chromosome[i] = int(pop_str,2)**2\n",
    "        total = total + tot_chromosome[i]\n",
    "        fitness[i] = round(tot_chromosome[i] / total, 2)*100\n",
    "   \n",
    "    return (individual, fitness[::-1])"
   ]
  },
  {
   "cell_type": "code",
   "execution_count": 215,
   "metadata": {},
   "outputs": [],
   "source": [
    "def printFitness(fitness):\n",
    "    print(\"Fitness: \", sep = ' ')\n",
    "    for i in range(maxPop):\n",
    "        print(fitness[i], sep = ' ')\n",
    "    print()"
   ]
  },
  {
   "cell_type": "code",
   "execution_count": 218,
   "metadata": {},
   "outputs": [],
   "source": [
    "def get_dic_from_two_lists(keys, values):\n",
    "    return { keys[i] : values[i] for i in range(len(keys)) }"
   ]
  },
  {
   "cell_type": "code",
   "execution_count": 224,
   "metadata": {},
   "outputs": [],
   "source": [
    "def selectIndividual(mytest):\n",
    "    newDict = dict()\n",
    "    # Iterate over all the items in dictionary and filter items which has even keys\n",
    "    for (key, value) in mytest.items():\n",
    "       # Check if individual's fitness > 20.0% add pair to new dictionary\n",
    "       if value > 20.0:\n",
    "           newDict[key] = value\n",
    "    # Fill in discarded individual with highest fitness indiviual \n",
    " \n",
    "    print('Filtered Individual: ')\n",
    "    print(newDict)"
   ]
  },
  {
   "cell_type": "code",
   "execution_count": 228,
   "metadata": {},
   "outputs": [],
   "source": [
    "def selectFitIndividual(mytest):\n",
    "    mytest = {key:val for key, val in mytest.items() if val > 20.0}\n",
    "    print(mytest)"
   ]
  },
  {
   "cell_type": "code",
   "execution_count": 242,
   "metadata": {},
   "outputs": [
    {
     "name": "stdout",
     "output_type": "stream",
     "text": [
      "Inital Population:\n",
      "0 0 1 0 1 \n",
      "1 1 1 0 0 \n",
      "1 0 1 1 0 \n",
      "1 1 0 0 1 \n"
     ]
    }
   ],
   "source": [
    "maxSplusOne = 6  # 5 string length + 1 int value for fitness \n",
    "maxPop = 4\n",
    "population = [[0,0,0,0,0,0],[0,0,0,0,0,0],[0,0,0,0,0,0],[0,0,0,0,0,0]]\n",
    "\n",
    "def main():\n",
    "    population = createInitialPop()\n",
    "    print('Inital Population:')\n",
    "    printPopulation(population)\n",
    "    individual,fitness = calculateFitness(population)\n",
    "    #mytest = dict(zip(test, fitness))\n",
    "    #print(\"Fitness: \")\n",
    "    #print(mytest)\n",
    "    #get_dic_from_two_lists(test, fitness)\n",
    "    #selectFitIndividual(mytest)\n",
    "    #print(max(mytest.values()))\n",
    "    \n",
    "if __name__ == '__main__':\n",
    "    main()"
   ]
  },
  {
   "cell_type": "code",
   "execution_count": null,
   "metadata": {},
   "outputs": [],
   "source": []
  }
 ],
 "metadata": {
  "kernelspec": {
   "display_name": "Python 3",
   "language": "python",
   "name": "python3"
  },
  "language_info": {
   "codemirror_mode": {
    "name": "ipython",
    "version": 3
   },
   "file_extension": ".py",
   "mimetype": "text/x-python",
   "name": "python",
   "nbconvert_exporter": "python",
   "pygments_lexer": "ipython3",
   "version": "3.7.4"
  }
 },
 "nbformat": 4,
 "nbformat_minor": 2
}
