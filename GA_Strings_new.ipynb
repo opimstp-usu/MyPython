{
 "cells": [
  {
   "cell_type": "markdown",
   "metadata": {},
   "source": [
    "# Genetic Algorithm for string of 1"
   ]
  },
  {
   "cell_type": "code",
   "execution_count": 1,
   "metadata": {},
   "outputs": [],
   "source": [
    "import numpy as np\n",
    "import random"
   ]
  },
  {
   "cell_type": "code",
   "execution_count": 2,
   "metadata": {},
   "outputs": [],
   "source": [
    "def createPopulation():\n",
    "    population = [[0,0,0,0,0],[0,0,0,0,0],[0,0,0,0,0],[0,0,0,0,0]]\n",
    "    #random.seed(1)     #Prevent from randomly generated\n",
    "    for i in range(maxPop):\n",
    "        for j in range(maxS):\n",
    "            population[i][j] = random.randint(0,1)\n",
    "    return population"
   ]
  },
  {
   "cell_type": "code",
   "execution_count": 3,
   "metadata": {},
   "outputs": [],
   "source": [
    "def createChromosome(population):\n",
    "    chromosome = []\n",
    "    for i in range(maxPop):\n",
    "        pop_str = ''.join(map(str, population[i]))\n",
    "        chromosome.insert(i, pop_str)\n",
    "    return chromosome"
   ]
  },
  {
   "cell_type": "code",
   "execution_count": 4,
   "metadata": {},
   "outputs": [],
   "source": [
    "def printPopulation(population):\n",
    "    print('Initial Population:')\n",
    "    for i in range(maxPop):\n",
    "        print(population[i], sep=' ')\n",
    "    print()"
   ]
  },
  {
   "cell_type": "code",
   "execution_count": 5,
   "metadata": {},
   "outputs": [],
   "source": [
    "def printFitness(fitness):\n",
    "    print(\"Fitness: \")\n",
    "    for i in range(maxPop):\n",
    "        print(fitness[i], sep = ' ')\n",
    "    #print()"
   ]
  },
  {
   "cell_type": "code",
   "execution_count": 6,
   "metadata": {},
   "outputs": [],
   "source": [
    "def printChromosomeFitness(chromfit):\n",
    "    print(\"Chromosome fitness:\")\n",
    "    for i in range(maxPop):\n",
    "        (chrom, fit) = extractChromosomeFitness(chromfit[i])\n",
    "        print(\"{} Fitness: {}\".format(chrom, fit))\n",
    "    #print()"
   ]
  },
  {
   "cell_type": "code",
   "execution_count": 7,
   "metadata": {},
   "outputs": [],
   "source": [
    "def calculateFitness(chromosome):\n",
    "    total = 0\n",
    "    tot_chromosome = [0,0,0,0]\n",
    "    fitness = [0.0,0.0,0.0,0.0]\n",
    "    \n",
    "    for i in range(maxPop):\n",
    "        tot_chromosome[i] = int(chromosome[i], 2)**2\n",
    "        total = total + tot_chromosome[i]\n",
    "\n",
    "    for i in range(maxPop):\n",
    "        fitness[i] = round((tot_chromosome[i] / total)*100, 2)\n",
    "    \n",
    "    return (fitness)"
   ]
  },
  {
   "cell_type": "code",
   "execution_count": 8,
   "metadata": {},
   "outputs": [],
   "source": [
    "def extractChromosomeFitness(chromf):\n",
    "    chrs = chromf[0:5]\n",
    "    fits = chromf[6:12]\n",
    "    return (chrs, fits)"
   ]
  },
  {
   "cell_type": "code",
   "execution_count": 9,
   "metadata": {},
   "outputs": [],
   "source": [
    "def mergePopulationFitness(chromosome, fitness):\n",
    "    chromfit = [\"\",\"\",\"\",\"\"]\n",
    "    strfit = \"\"\n",
    "    i=0\n",
    "    for r in chromosome:\n",
    "        strfit = r + \",\"+''.join(str(fitness[i]))\n",
    "        chromfit[i] = strfit\n",
    "        i = i + 1 \n",
    "        strfit=\"\"\n",
    "    return (chromfit)"
   ]
  },
  {
   "cell_type": "code",
   "execution_count": 10,
   "metadata": {},
   "outputs": [],
   "source": [
    "def selectChromosomes(chromfit):\n",
    "    newchromosomes = []\n",
    "    ct = 0\n",
    "    fittest = 0.0\n",
    "    newchrom = \"\"\n",
    "    for i in range(maxPop):\n",
    "        (chrom, fit) = extractChromosomeFitness(chromfit[i])\n",
    "        if float(fit) > 10.0:\n",
    "            if float(fit) > fittest:\n",
    "                fittest = float(fit)\n",
    "                newchrom = chrom\n",
    "            newchromosomes.insert(ct, chrom)\n",
    "            ct = ct + 1\n",
    "    \n",
    "    for i in range(maxPop-ct):\n",
    "        newchromosomes.insert(i, newchrom)\n",
    "\n",
    "    return (newchromosomes)"
   ]
  },
  {
   "cell_type": "code",
   "execution_count": 11,
   "metadata": {},
   "outputs": [],
   "source": [
    "def getOnePointCrossOver():\n",
    "    cr = np.array([-9,-9], dtype = int)\n",
    "    cr[0] = random.randint(0,4)\n",
    "    cr[1] = random.randint(0,4)\n",
    "    return(cr)"
   ]
  },
  {
   "cell_type": "code",
   "execution_count": 12,
   "metadata": {},
   "outputs": [],
   "source": [
    "def pickMate():\n",
    "    mate_order = np.array([-9,-9,-9,-9], dtype = int)\n",
    "    ct = 0\n",
    "    while ct < 4:\n",
    "        m = random.randint(0,3)\n",
    "        if m in set(mate_order):\n",
    "            m = random.randint(0,3)\n",
    "        else:\n",
    "            mate_order[ct] = m\n",
    "            ct = ct + 1 \n",
    "    return (mate_order)"
   ]
  },
  {
   "cell_type": "code",
   "execution_count": 13,
   "metadata": {},
   "outputs": [],
   "source": [
    "def crossOver(cr, mate, chromosome):\n",
    "    k=0\n",
    "    newchromosomes = []\n",
    "    numOfMate = int(maxPop/2)\n",
    "    for j in range(numOfMate):\n",
    "        p1 = mate[k]\n",
    "        p2 = mate[k+1]\n",
    "        crp = cr[j]\n",
    "        parent1 = chromosome[p1]\n",
    "        parent2 = chromosome[p2]\n",
    "        substr1 = parent1[crp+1:maxS]\n",
    "        substr2 = parent2[crp+1:maxS]\n",
    "        newparent1 = parent1[0:crp+1] + substr2\n",
    "        newparent2 = parent2[0:crp+1] + substr1\n",
    "        newchromosomes.insert(k, newparent1)\n",
    "        newchromosomes.insert(k+1, newparent2)\n",
    "        k = k + 2\n",
    "    \n",
    "    return(newchromosomes)"
   ]
  },
  {
   "cell_type": "code",
   "execution_count": 14,
   "metadata": {},
   "outputs": [],
   "source": [
    "def mutation(chromosome):\n",
    "    mutated = []\n",
    "    selected = []\n",
    "    pm = int((maxPop * maxS)*0.1)  #Calculate probability of mutation\n",
    "    for i in range(pm):\n",
    "        mut = random.randint(0,4)  # choose which gen to mutate\n",
    "        sel = random.randint(0,3)  # choose which chromosome to mutate\n",
    "        selected = chromosome[sel]\n",
    "        #print(\"Selected Chromosome {} before mutated at {}: \".format(sel+1, mut+1))\n",
    "        #print(selected)\n",
    "        newsel = list(selected)\n",
    "        if selected[mut] == '0':\n",
    "            newsel[mut] = '1'\n",
    "        else:\n",
    "            newsel[mut] = '0'\n",
    "        selected = \"\".join(newsel)\n",
    "        chromosome[sel] = selected\n",
    "        #print(\"New Chromosome {} after mutated at {}: \".format(sel+1, mut+1))\n",
    "        #print(chromosome)\n",
    "    \n",
    "    return (chromosome)\n"
   ]
  },
  {
   "cell_type": "code",
   "execution_count": 15,
   "metadata": {},
   "outputs": [],
   "source": [
    "def calculateObjective(chromosome):\n",
    "    total = 0\n",
    "    tot_chromosome = [0,0,0,0]\n",
    "    \n",
    "    for i in range(maxPop):\n",
    "        tot_chromosome[i] = int(chromosome[i], 2)**2\n",
    "        total = total + tot_chromosome[i]\n",
    "    return (total)    "
   ]
  },
  {
   "cell_type": "code",
   "execution_count": 16,
   "metadata": {},
   "outputs": [],
   "source": [
    "def allOnes(n):\n",
    "    return ((n+1) & n == 0) and (n!=0)\n",
    "\n",
    "def optimalObjctive():\n",
    "    bins = bin(2**maxS-1)\n",
    "    numstr = str(bins[2:])\n",
    "    optObj = 4*(int(numstr,2)**2)\n",
    "    return(optObj)"
   ]
  },
  {
   "cell_type": "code",
   "execution_count": 17,
   "metadata": {},
   "outputs": [
    {
     "name": "stdout",
     "output_type": "stream",
     "text": [
      "\"Genetic Algorithm\"\n",
      "Initial chomosome: ['11000', '01101', '10001', '01101']\n",
      "Final chromosome: ['11111', '11111', '11111', '11111']\n",
      "Optimal Solution found in 776 generations\n",
      "Optimal objective value = 3844\n"
     ]
    }
   ],
   "source": [
    "maxPop = 4\n",
    "maxS = 5\n",
    "\n",
    "def main():\n",
    "    print('\"Genetic Algorithm\"')\n",
    "    population = createPopulation()\n",
    "    chromosome = createChromosome(population)\n",
    "    print(\"Initial chomosome: {}\".format(chromosome))\n",
    "    totObj = calculateObjective(chromosome)\n",
    "    optSol = optimalObjctive()\n",
    "    gen = 0\n",
    "    while totObj < optSol:\n",
    "        fitness = calculateFitness(chromosome)\n",
    "        chromFitness = mergePopulationFitness(chromosome, fitness)\n",
    "        #printChromosomeFitness(chromFitness)\n",
    "        totObj = calculateObjective(chromosome)\n",
    "        if totObj < optSol:\n",
    "            #print(\"Objective function value = {} of {}\".format(totObj, optSol))\n",
    "            chromosome = selectChromosomes(chromFitness)\n",
    "            cr = getOnePointCrossOver()\n",
    "            mate = pickMate()\n",
    "            chromosome = crossOver(cr, mate, chromosome)\n",
    "            chromosome = mutation(chromosome)\n",
    "            #print(\"\\nNew chomosome: {}\".format(chromosome))\n",
    "            gen = gen + 1\n",
    "    print(\"Final chromosome: {}\".format(chromosome))\n",
    "    print(\"Optimal Solution found in {} generations\".format(gen))\n",
    "    print(\"Optimal objective value = {}\".format(totObj))\n",
    "        \n",
    "if __name__ == \"__main__\":\n",
    "    main()"
   ]
  },
  {
   "cell_type": "code",
   "execution_count": null,
   "metadata": {},
   "outputs": [],
   "source": []
  }
 ],
 "metadata": {
  "kernelspec": {
   "display_name": "Python 3",
   "language": "python",
   "name": "python3"
  },
  "language_info": {
   "codemirror_mode": {
    "name": "ipython",
    "version": 3
   },
   "file_extension": ".py",
   "mimetype": "text/x-python",
   "name": "python",
   "nbconvert_exporter": "python",
   "pygments_lexer": "ipython3",
   "version": "3.7.4"
  }
 },
 "nbformat": 4,
 "nbformat_minor": 4
}
